{
 "cells": [
  {
   "cell_type": "code",
   "execution_count": null,
   "metadata": {},
   "outputs": [],
   "source": [
    "from youtube_transcript_api import YouTubeTranscriptApi"
   ]
  },
  {
   "cell_type": "code",
   "execution_count": null,
   "metadata": {},
   "outputs": [],
   "source": [
    "video_id=\"dDP36_ZBs6A\"\n",
    "t=YouTubeTranscriptApi.get_transcript(video_id)"
   ]
  },
  {
   "cell_type": "code",
   "execution_count": null,
   "metadata": {},
   "outputs": [],
   "source": [
    "transcript = \" \".join([segment['text'] for segment in t])\n",
    "print(transcript)"
   ]
  },
  {
   "cell_type": "code",
   "execution_count": null,
   "metadata": {},
   "outputs": [],
   "source": [
    "from dotenv import load_dotenv\n",
    "import google.generativeai as genai\n",
    "from google.generativeai import GenerationConfig\n",
    "import json\n",
    "import os\n",
    "import time\n",
    "import random\n",
    "\n",
    "# created a schema/format to give to the llm ki aise format ki json me data return kar\n",
    "import typing_extensions as typing\n",
    "class QA_data(typing.TypedDict):\n",
    "    question: str\n",
    "    answers: list[str]\n",
    "    correct_answer: str\n",
    "\n",
    "\n",
    "# Load environment variables, particularly GEMINI_KEY\n",
    "load_dotenv()\n",
    "\n",
    "# Configure Gemini API\n",
    "genai.configure(api_key=os.getenv(\"GEMINI_KEY\"))\n",
    "config = GenerationConfig(temperature=0.9, response_mime_type=\"application/json\", response_schema=QA_data)\n",
    "\n",
    "\n"
   ]
  },
  {
   "cell_type": "code",
   "execution_count": null,
   "metadata": {},
   "outputs": [],
   "source": [
    "def split_text_into_chunks(text):\n",
    "    num_questions = random.randint(8, 10) # you can change the number of questions you want to generate\n",
    "    print(f\"Generating {num_questions} questions from the transcript...\")\n",
    "    max_words = len(text.split()) // num_questions\n",
    "    words = text.split()\n",
    "    chunks = []\n",
    "    for i in range(0, len(words), max_words):\n",
    "        chunk = ' '.join(words[i:i + max_words])\n",
    "        chunks.append(chunk.strip())\n",
    "    return chunks\n",
    "\n",
    "\n",
    "\n",
    "def generate_questions_and_options(chunk):\n",
    "    try:\n",
    "        prompt = f'''Generate a question from the following text chunk:\\n\\n{chunk}\\n\\nProvide 4 options, with only 1 correct option.\n",
    "                    Format the output in a dictionary like such'''\n",
    "        \n",
    "        # Call the Gemini API\n",
    "        response = genai.GenerativeModel(\"gemini-1.5-flash\",\n",
    "                                         system_instruction=\"You are an expert question maker and quizzer and need to parse some transcript chunks to generate the best questions possible\",\n",
    "                                         generation_config=config)\n",
    "        result = response.generate_content(prompt)\n",
    "        \n",
    "        # parsed the response object\n",
    "        dict_to_return = json.loads(result.parts[0].text)\n",
    "        return dict_to_return\n",
    "\n",
    "    except Exception as e:\n",
    "        print(f\"Error during API request: {e}\")\n",
    "        return \"Error generating question and options.\", [], \"\"\n"
   ]
  },
  {
   "cell_type": "code",
   "execution_count": null,
   "metadata": {},
   "outputs": [],
   "source": [
    "\n",
    "# Sample text transcript\n",
    "text = transcript\n",
    "\n",
    "# Split text into chunks\n",
    "\n",
    "chunks = split_text_into_chunks(text)\n",
    "questions_data = []\n",
    "\n",
    "# Process each chunk\n",
    "for i, chunk in enumerate(chunks):\n",
    "    print(f\"Chunk {i + 1}:\\n{chunk}\\n\")\n",
    "    question_data = generate_questions_and_options(chunk)\n",
    "\n",
    "    # wrote the index of the chunk as well before appending\n",
    "    question_data[\"index\"] = i\n",
    "    questions_data.append(question_data)\n",
    "    # break\n",
    "# Save to JSON file\n",
    "with open(\"questions_data.json\", \"w\") as json_file:\n",
    "    json.dump(questions_data, json_file, indent=4)\n",
    "\n",
    "print(\"Collected data has been saved to questions_data.json\")"
   ]
  },
  {
   "cell_type": "code",
   "execution_count": null,
   "metadata": {},
   "outputs": [],
   "source": []
  }
 ],
 "metadata": {
  "kernelspec": {
   "display_name": "Python 3",
   "language": "python",
   "name": "python3"
  },
  "language_info": {
   "codemirror_mode": {
    "name": "ipython",
    "version": 3
   },
   "file_extension": ".py",
   "mimetype": "text/x-python",
   "name": "python",
   "nbconvert_exporter": "python",
   "pygments_lexer": "ipython3",
   "version": "3.12.0"
  }
 },
 "nbformat": 4,
 "nbformat_minor": 2
}
